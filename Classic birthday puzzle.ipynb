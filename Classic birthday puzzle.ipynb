{
 "cells": [
  {
   "cell_type": "markdown",
   "metadata": {},
   "source": [
    "# The Classic Birthday Puzzle \n",
    "\n",
    "This is my solution to the Riddler Classic from 4th October 2019.\n",
    "\n",
    "https://fivethirtyeight.com/features/who-wants-to-be-a-riddler-millionaire/\n",
    "\n",
    "From Joel Lewis, this week’s Riddler Classic is a birthday puzzle for the ages:\n",
    "\n",
    "The classic birthday problem asks about how many people need to be in a room together before you have better-than-even odds that at least two of them have the same birthday. Ignoring leap years, the answer is, paradoxically, only 23 people — fewer than you might intuitively think.\n",
    "\n",
    "But Joel noticed something interesting about a well-known group of 100 people: In the U.S. Senate, three senators happen to share the same birthday of October 20: Kamala Harris, Brian Schatz and Sheldon Whitehouse.\n",
    "\n",
    "And so Joel has thrown a new wrinkle into the classic birthday problem. How many people do you need to have better-than-even odds that at least three of them have the same birthday? (Again, ignore leap years.)"
   ]
  },
  {
   "cell_type": "code",
   "execution_count": 1,
   "metadata": {
    "scrolled": true
   },
   "outputs": [],
   "source": [
    "# import modules\n",
    "import numpy as np\n",
    "import pandas as pd\n",
    "import matplotlib.pyplot as plt\n",
    "import seaborn as sns"
   ]
  },
  {
   "cell_type": "code",
   "execution_count": 2,
   "metadata": {},
   "outputs": [],
   "source": [
    "# define function to calculate the point that the odds of X people in the same room having same birthday is > 50%\n",
    "\n",
    "def birthday_puzzle(matches_needed = 2, people_in_room = 20, sims = 1000):\n",
    "    \n",
    "    # create a list range from 1-365, nominally representing each day of the year (excluding leap years)\n",
    "    birthdays = list(np.arange(1, 365 + 1))\n",
    "\n",
    "    # initialise a dictionary to store the results\n",
    "    results = {}\n",
    "    \n",
    "    # create a while loop that increments the room size by one for each set of simulations, and breaks when condition met\n",
    "    while True:\n",
    "        sim_results = []\n",
    "        for sim in range(sims):\n",
    "            room = []\n",
    "            match = 0\n",
    "            for x in range(people_in_room):\n",
    "                room.append(np.random.choice(birthdays))\n",
    "            highest_match = pd.Series(room).value_counts().max()\n",
    "            if highest_match >= matches_needed: \n",
    "                match = 1\n",
    "            sim_results.append(match)\n",
    "        odds = np.mean(sim_results)\n",
    "        results.update({people_in_room:odds})\n",
    "        if people_in_room == 200:\n",
    "            return results\n",
    "        people_in_room += 1"
   ]
  },
  {
   "cell_type": "code",
   "execution_count": 3,
   "metadata": {},
   "outputs": [],
   "source": [
    "# run the function for two and three matches, with a starting room size of 2 people, and 1000 simulations\n",
    "two_match = birthday_puzzle(2, 2, 1000)\n",
    "three_match = birthday_puzzle(3, 2, 1000)"
   ]
  },
  {
   "cell_type": "code",
   "execution_count": 4,
   "metadata": {},
   "outputs": [
    {
     "name": "stdout",
     "output_type": "stream",
     "text": [
      "   people_in_room  two matches  three matches\n",
      "0               2        0.001            0.0\n",
      "1               3        0.004            0.0\n",
      "2               4        0.017            0.0\n",
      "3               5        0.028            0.0\n",
      "4               6        0.044            0.0\n"
     ]
    }
   ],
   "source": [
    "combined_dict = {'two matches':two_match, 'three matches':three_match}\n",
    "df = pd.DataFrame.from_dict(combined_dict)\n",
    "df.reset_index(inplace=True)\n",
    "df.rename(columns = {'index':'people_in_room'}, inplace=True)\n",
    "print(df.head())"
   ]
  },
  {
   "cell_type": "code",
   "execution_count": 5,
   "metadata": {},
   "outputs": [
    {
     "data": {
      "image/png": "[encoded data removed]",
      "text/plain": [
       "<Figure size 432x288 with 1 Axes>"
      ]
     },
     "metadata": {},
     "output_type": "display_data"
    }
   ],
   "source": [
    "# plot the results of the above simulation\n",
    "fig, ax = plt.subplots()\n",
    "ax.plot(df['people_in_room'], df['two matches'])\n",
    "ax.plot(df['people_in_room'], df['three matches'])\n",
    "\n",
    "# add plot title, axis labels, legend, and remove right and top spines\n",
    "plt.title(\"Probability of matching birthday, by no of people\")\n",
    "plt.xlabel(\"People in room\")\n",
    "plt.ylabel(\"Probability\")\n",
    "plt.legend(loc='lower right')\n",
    "plt.yticks(np.arange(0, 1.1, step=0.1))\n",
    "ax.spines['right'].set_visible(False)\n",
    "ax.spines['top'].set_visible(False)\n",
    "\n",
    "# Hide the right and top spines\n",
    "plt.show()"
   ]
  },
  {
   "cell_type": "code",
   "execution_count": null,
   "metadata": {},
   "outputs": [],
   "source": []
  }
 ],
 "metadata": {
  "kernelspec": {
   "display_name": "Python 3",
   "language": "python",
   "name": "python3"
  },
  "language_info": {
   "codemirror_mode": {
    "name": "ipython",
    "version": 3
   },
   "file_extension": ".py",
   "mimetype": "text/x-python",
   "name": "python",
   "nbconvert_exporter": "python",
   "pygments_lexer": "ipython3",
   "version": "3.6.5"
  }
 },
 "nbformat": 4,
 "nbformat_minor": 2
}
